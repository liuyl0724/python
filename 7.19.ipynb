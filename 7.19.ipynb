{
 "cells": [
  {
   "cell_type": "markdown",
   "metadata": {},
   "source": [
    "# 循环\n",
    "- 循环是一种控制语句块重复执行的结构\n",
    "- while  适用于广度遍历\n",
    "- for    开发中经常使用"
   ]
  },
  {
   "cell_type": "markdown",
   "metadata": {},
   "source": [
    "## while 循环\n",
    "- 当一个条件保持真的时候while循环重复执行语句\n",
    "- while 循环一定要有结束条件，否则很容易进入死循环\n",
    "- while 循环的语法是：\n",
    "\n",
    "    while loop-contunuation-conndition:\n",
    "\n",
    "        Statement"
   ]
  },
  {
   "cell_type": "code",
   "execution_count": null,
   "metadata": {},
   "outputs": [],
   "source": [
    "i = 0\n",
    "while i<10:\n",
    "    print('hahaha')\n",
    "    i += 1"
   ]
  },
  {
   "cell_type": "markdown",
   "metadata": {},
   "source": [
    "## 示例：\n",
    "sum = 0\n",
    "\n",
    "i = 1\n",
    "\n",
    "while i <10:\n",
    "\n",
    "    sum = sum + i\n",
    "    i = i + 1"
   ]
  },
  {
   "cell_type": "markdown",
   "metadata": {},
   "source": [
    "## 错误示例：\n",
    "sum = 0\n",
    "\n",
    "i = 1\n",
    "\n",
    "while i <10:\n",
    "\n",
    "    sum = sum + i\n",
    "\n",
    "i = i + 1\n",
    "- 一旦进入死循环可按 Ctrl + c 停止"
   ]
  },
  {
   "cell_type": "markdown",
   "metadata": {},
   "source": [
    "## EP：\n",
    "![](../Photo/143.png)\n",
    "![](../Photo/144.png)"
   ]
  },
  {
   "cell_type": "markdown",
   "metadata": {},
   "source": [
    "# 验证码\n",
    "- 随机产生四个字母的验证码，如果正确，输出验证码正确。如果错误，产生新的验证码，用户重新输入。\n",
    "- 验证码只能输入三次，如果三次都错，返回“别爬了，我们小网站没什么好爬的”\n",
    "- 密码登录，如果三次错误，账号被锁定\n"
   ]
  },
  {
   "cell_type": "code",
   "execution_count": 1,
   "metadata": {},
   "outputs": [],
   "source": [
    "import random"
   ]
  },
  {
   "cell_type": "code",
   "execution_count": 29,
   "metadata": {},
   "outputs": [
    {
     "name": "stdout",
     "output_type": "stream",
     "text": [
      "JWUy\n"
     ]
    }
   ],
   "source": [
    "n = random.randint(65,122)\n",
    "N = \"\"\n",
    "i = 0\n",
    "while 1:\n",
    "    if 91<=n<=96:\n",
    "        n = random.randint(65,122)\n",
    "    else:\n",
    "        N += chr(n)\n",
    "        n = random.randint(65,122)\n",
    "        i += 1\n",
    "        if i == 4:\n",
    "            break\n",
    "print(N)"
   ]
  },
  {
   "cell_type": "code",
   "execution_count": null,
   "metadata": {},
   "outputs": [],
   "source": [
    "count = 0\n",
    "for i in range(1000):\n",
    "    a = random.randint(0,1000) / 1000\n",
    "    if 0<a<0.001"
   ]
  },
  {
   "cell_type": "code",
   "execution_count": null,
   "metadata": {},
   "outputs": [],
   "source": []
  },
  {
   "cell_type": "markdown",
   "metadata": {},
   "source": [
    "## 尝试死循环"
   ]
  },
  {
   "cell_type": "markdown",
   "metadata": {},
   "source": [
    "## 实例研究：猜数字\n",
    "- 你将要编写一个能够随机生成一个0到10之间的且包括两者的数字程序，这个程序\n",
    "- 提示用户连续地输入数字直到正确，且提示用户输入的数字是过高还是过低"
   ]
  },
  {
   "cell_type": "markdown",
   "metadata": {},
   "source": [
    "## 使用哨兵值来控制循环\n",
    "- 哨兵值来表明输入的结束\n",
    "- ![](../Photo/54.png)"
   ]
  },
  {
   "cell_type": "markdown",
   "metadata": {},
   "source": [
    "## 警告\n",
    "![](../Photo/55.png)"
   ]
  },
  {
   "cell_type": "markdown",
   "metadata": {},
   "source": [
    "## for 循环\n",
    "- Python的for 循环通过一个序列中的每个值来进行迭代\n",
    "- range(a,b,k)， a，b，k 必须为整数\n",
    "- a: start\n",
    "- b: end\n",
    "- k: step\n",
    "- 注意for 是循环一切可迭代对象，而不是只能使用range"
   ]
  },
  {
   "cell_type": "code",
   "execution_count": 9,
   "metadata": {
    "collapsed": true
   },
   "outputs": [
    {
     "name": "stdout",
     "output_type": "stream",
     "text": [
      "Joker is a better man!\n",
      "Joker is a better man!\n",
      "Joker is a better man!\n",
      "Joker is a better man!\n",
      "Joker is a better man!\n",
      "Joker is a better man!\n",
      "Joker is a better man!\n",
      "Joker is a better man!\n",
      "Joker is a better man!\n",
      "Joker is a better man!\n",
      "Joker is a better man!\n",
      "Joker is a better man!\n",
      "Joker is a better man!\n",
      "Joker is a better man!\n",
      "Joker is a better man!\n",
      "Joker is a better man!\n",
      "Joker is a better man!\n",
      "Joker is a better man!\n",
      "Joker is a better man!\n",
      "Joker is a better man!\n",
      "Joker is a better man!\n",
      "Joker is a better man!\n",
      "Joker is a better man!\n",
      "Joker is a better man!\n",
      "Joker is a better man!\n",
      "Joker is a better man!\n",
      "Joker is a better man!\n",
      "Joker is a better man!\n",
      "Joker is a better man!\n",
      "Joker is a better man!\n",
      "Joker is a better man!\n",
      "Joker is a better man!\n",
      "Joker is a better man!\n",
      "Joker is a better man!\n",
      "Joker is a better man!\n",
      "Joker is a better man!\n",
      "Joker is a better man!\n",
      "Joker is a better man!\n",
      "Joker is a better man!\n",
      "Joker is a better man!\n",
      "Joker is a better man!\n",
      "Joker is a better man!\n",
      "Joker is a better man!\n",
      "Joker is a better man!\n",
      "Joker is a better man!\n",
      "Joker is a better man!\n",
      "Joker is a better man!\n",
      "Joker is a better man!\n",
      "Joker is a better man!\n",
      "Joker is a better man!\n",
      "Joker is a better man!\n",
      "Joker is a better man!\n",
      "Joker is a better man!\n",
      "Joker is a better man!\n",
      "Joker is a better man!\n",
      "Joker is a better man!\n",
      "Joker is a better man!\n",
      "Joker is a better man!\n",
      "Joker is a better man!\n",
      "Joker is a better man!\n",
      "Joker is a better man!\n",
      "Joker is a better man!\n",
      "Joker is a better man!\n",
      "Joker is a better man!\n",
      "Joker is a better man!\n",
      "Joker is a better man!\n",
      "Joker is a better man!\n",
      "Joker is a better man!\n",
      "Joker is a better man!\n",
      "Joker is a better man!\n",
      "Joker is a better man!\n",
      "Joker is a better man!\n",
      "Joker is a better man!\n",
      "Joker is a better man!\n",
      "Joker is a better man!\n",
      "Joker is a better man!\n",
      "Joker is a better man!\n",
      "Joker is a better man!\n",
      "Joker is a better man!\n",
      "Joker is a better man!\n",
      "Joker is a better man!\n",
      "Joker is a better man!\n",
      "Joker is a better man!\n",
      "Joker is a better man!\n",
      "Joker is a better man!\n",
      "Joker is a better man!\n",
      "Joker is a better man!\n",
      "Joker is a better man!\n",
      "Joker is a better man!\n",
      "Joker is a better man!\n",
      "Joker is a better man!\n",
      "Joker is a better man!\n",
      "Joker is a better man!\n",
      "Joker is a better man!\n",
      "Joker is a better man!\n",
      "Joker is a better man!\n",
      "Joker is a better man!\n",
      "Joker is a better man!\n",
      "Joker is a better man!\n",
      "Joker is a better man!\n"
     ]
    }
   ],
   "source": [
    "for i in range(100):\n",
    "    print('Joker is a better man!')"
   ]
  },
  {
   "cell_type": "code",
   "execution_count": 14,
   "metadata": {},
   "outputs": [],
   "source": [
    "a = 100"
   ]
  },
  {
   "cell_type": "code",
   "execution_count": 10,
   "metadata": {},
   "outputs": [
    {
     "data": {
      "text/plain": [
       "<str_iterator at 0x10b8863c8>"
      ]
     },
     "execution_count": 10,
     "metadata": {},
     "output_type": "execute_result"
    }
   ],
   "source": [
    "bb = 'JOker'\n",
    "bb.__iter__()"
   ]
  },
  {
   "cell_type": "code",
   "execution_count": null,
   "metadata": {},
   "outputs": [],
   "source": []
  },
  {
   "cell_type": "code",
   "execution_count": 16,
   "metadata": {},
   "outputs": [],
   "source": [
    "c = [1,2,3]\n",
    "c.__iter__"
   ]
  },
  {
   "cell_type": "code",
   "execution_count": null,
   "metadata": {},
   "outputs": [],
   "source": [
    "{'key':'value'}.__iter__\n",
    "(1,3,43).__iter__\n",
    "{1,2,43}.__iter__"
   ]
  },
  {
   "cell_type": "code",
   "execution_count": 19,
   "metadata": {},
   "outputs": [
    {
     "ename": "TypeError",
     "evalue": "'bool' object is not iterable",
     "output_type": "error",
     "traceback": [
      "\u001b[0;31m---------------------------------------------------------------------------\u001b[0m",
      "\u001b[0;31mTypeError\u001b[0m                                 Traceback (most recent call last)",
      "\u001b[0;32m<ipython-input-19-425af1773ecf>\u001b[0m in \u001b[0;36m<module>\u001b[0;34m\u001b[0m\n\u001b[0;32m----> 1\u001b[0;31m \u001b[0;32mfor\u001b[0m \u001b[0mi\u001b[0m \u001b[0;32min\u001b[0m \u001b[0;32mTrue\u001b[0m\u001b[0;34m:\u001b[0m\u001b[0;34m\u001b[0m\u001b[0;34m\u001b[0m\u001b[0m\n\u001b[0m\u001b[1;32m      2\u001b[0m     \u001b[0mprint\u001b[0m\u001b[0;34m(\u001b[0m\u001b[0mi\u001b[0m\u001b[0;34m)\u001b[0m\u001b[0;34m\u001b[0m\u001b[0;34m\u001b[0m\u001b[0m\n",
      "\u001b[0;31mTypeError\u001b[0m: 'bool' object is not iterable"
     ]
    }
   ],
   "source": [
    "for i in range(5):\n",
    "    print(i)"
   ]
  },
  {
   "cell_type": "markdown",
   "metadata": {},
   "source": [
    "# 在Python里面一切皆对象"
   ]
  },
  {
   "cell_type": "markdown",
   "metadata": {},
   "source": [
    "## EP:\n",
    "- ![](../Photo/145.png)"
   ]
  },
  {
   "cell_type": "code",
   "execution_count": 2,
   "metadata": {},
   "outputs": [
    {
     "name": "stdout",
     "output_type": "stream",
     "text": [
      "10011\n"
     ]
    }
   ],
   "source": [
    "i = 1\n",
    "sum_ = 0\n",
    "while sum_ < 10000:\n",
    "    sum_ += i\n",
    "    i += 1\n",
    "print(sum_)"
   ]
  },
  {
   "cell_type": "code",
   "execution_count": 1,
   "metadata": {},
   "outputs": [
    {
     "name": "stdout",
     "output_type": "stream",
     "text": [
      "10011\n"
     ]
    }
   ],
   "source": [
    "sum_ = 0\n",
    "for i in range(1,10001):\n",
    "    sum_ += i\n",
    "    if sum_ > 10000:\n",
    "        break\n",
    "print(sum_)"
   ]
  },
  {
   "cell_type": "code",
   "execution_count": 22,
   "metadata": {},
   "outputs": [
    {
     "name": "stdout",
     "output_type": "stream",
     "text": [
      "500500\n"
     ]
    }
   ],
   "source": [
    "sum = 0\n",
    "i = 0\n",
    "while i < 1001:\n",
    "    sum = sum + i\n",
    "    i += 1\n",
    "print(sum)"
   ]
  },
  {
   "cell_type": "markdown",
   "metadata": {},
   "source": [
    "## 嵌套循环\n",
    "- 一个循环可以嵌套另一个循环\n",
    "- 每次循环外层时，内层循环都会被刷新重新完成循环\n",
    "- 也就是说，大循环执行一次，小循环会全部执行一次\n",
    "- 注意：\n",
    "> - 多层循环非常耗时\n",
    "  - 最多使用3层循环"
   ]
  },
  {
   "cell_type": "code",
   "execution_count": null,
   "metadata": {},
   "outputs": [],
   "source": []
  },
  {
   "cell_type": "markdown",
   "metadata": {},
   "source": [
    "## EP：\n",
    "- 使用多层循环完成9X9乘法表\n",
    "- 显示50以内所有的素数"
   ]
  },
  {
   "cell_type": "markdown",
   "metadata": {},
   "source": [
    "## 关键字 break 和 continue\n",
    "- break 跳出循环，终止循环\n",
    "- continue 跳出此次循环，继续执行"
   ]
  },
  {
   "cell_type": "code",
   "execution_count": 19,
   "metadata": {
    "collapsed": true
   },
   "outputs": [
    {
     "name": "stdout",
     "output_type": "stream",
     "text": [
      "1 X 1 = 1 \n",
      "1 X 2 = 2 2 X 2 = 4 \n",
      "1 X 3 = 3 2 X 3 = 6 3 X 3 = 9 \n",
      "1 X 4 = 4 2 X 4 = 8 3 X 4 = 12 4 X 4 = 16 \n",
      "1 X 5 = 5 2 X 5 = 10 3 X 5 = 15 4 X 5 = 20 5 X 5 = 25 \n",
      "1 X 6 = 6 2 X 6 = 12 3 X 6 = 18 4 X 6 = 24 5 X 6 = 30 6 X 6 = 36 \n",
      "1 X 7 = 7 2 X 7 = 14 3 X 7 = 21 4 X 7 = 28 5 X 7 = 35 6 X 7 = 42 7 X 7 = 49 \n",
      "1 X 8 = 8 2 X 8 = 16 3 X 8 = 24 4 X 8 = 32 5 X 8 = 40 6 X 8 = 48 7 X 8 = 56 8 X 8 = 64 \n",
      "1 X 9 = 9 2 X 9 = 18 3 X 9 = 27 4 X 9 = 36 5 X 9 = 45 6 X 9 = 54 7 X 9 = 63 8 X 9 = 72 9 X 9 = 81 \n"
     ]
    }
   ],
   "source": [
    "for i in range(1,10):\n",
    "    for j in range(1,i+1):\n",
    "        print(j,'X',i,'=',i*j,end=' ')\n",
    "    print()"
   ]
  },
  {
   "cell_type": "markdown",
   "metadata": {},
   "source": [
    "## 注意\n",
    "![](../Photo/56.png)\n",
    "![](../Photo/57.png)"
   ]
  },
  {
   "cell_type": "markdown",
   "metadata": {},
   "source": [
    "# Homework\n",
    "- 1 \n",
    "![](../Photo/58.png)"
   ]
  },
  {
   "cell_type": "code",
   "execution_count": 1,
   "metadata": {},
   "outputs": [
    {
     "name": "stdout",
     "output_type": "stream",
     "text": [
      "输入一个数，以0结束：1\n",
      "输入一个数，以0结束：2\n",
      "输入一个数，以0结束：-1\n",
      "输入一个数，以0结束：3\n",
      "输入一个数，以0结束：0\n",
      "3\n",
      "1\n",
      "1.25\n"
     ]
    }
   ],
   "source": [
    "shu = 1\n",
    "zhengshu = 0\n",
    "fushu = 0\n",
    "sum_ = 0\n",
    "s = 0\n",
    "while shu != 0:\n",
    "    \n",
    "    shu = eval(input('输入一个数，以0结束：'))\n",
    "    if shu != 0:\n",
    "        s = s+1\n",
    "    if shu > 0:\n",
    "        zhengshu = zhengshu +1\n",
    "        sum_ = sum_ + shu\n",
    "    elif shu < 0:\n",
    "        fushu = fushu + 1\n",
    "        sum_ = sum_ + shu\n",
    "print(zhengshu)\n",
    "print(fushu)\n",
    "print(sum_ / s)"
   ]
  },
  {
   "cell_type": "markdown",
   "metadata": {},
   "source": [
    "- 2\n",
    "![](../Photo/59.png)"
   ]
  },
  {
   "cell_type": "code",
   "execution_count": 1,
   "metadata": {},
   "outputs": [
    {
     "name": "stdout",
     "output_type": "stream",
     "text": [
      "十年后的学费为：16288.946268\n",
      "十年后大学四年的学费：19799.315994\n"
     ]
    }
   ],
   "source": [
    "def jisuan(xuefei = 10000):\n",
    "    for i in range(14):\n",
    "        xuefei = xuefei + (xuefei*(5/100))\n",
    "        if i == 9:\n",
    "            print('十年后的学费为：%f'%xuefei)\n",
    "    print('十年后大学四年的学费：%f'%xuefei)\n",
    "jisuan()"
   ]
  },
  {
   "cell_type": "markdown",
   "metadata": {},
   "source": [
    "- 3\n",
    "![](../Photo/58.png)"
   ]
  },
  {
   "cell_type": "code",
   "execution_count": 3,
   "metadata": {},
   "outputs": [
    {
     "name": "stdout",
     "output_type": "stream",
     "text": [
      "输入一个数，以0结束：1\n",
      "输入一个数，以0结束：2\n",
      "输入一个数，以0结束：-1\n",
      "输入一个数，以0结束：3\n",
      "输入一个数，以0结束：0\n",
      "3\n",
      "1\n",
      "1.25\n"
     ]
    }
   ],
   "source": [
    "shu = 1\n",
    "zhengshu = 0\n",
    "fushu = 0\n",
    "sum_ = 0\n",
    "s = 0\n",
    "while shu != 0:\n",
    "    \n",
    "    shu = eval(input('输入一个数，以0结束：'))\n",
    "    if shu != 0:\n",
    "        s = s+1\n",
    "    if shu > 0:\n",
    "        zhengshu = zhengshu +1\n",
    "        sum_ = sum_ + shu\n",
    "    elif shu < 0:\n",
    "        fushu = fushu + 1\n",
    "        sum_ = sum_ + shu\n",
    "print(zhengshu)\n",
    "print(fushu)\n",
    "print(sum_ / s)"
   ]
  },
  {
   "cell_type": "markdown",
   "metadata": {},
   "source": [
    "- 4\n",
    "![](../Photo/60.png)"
   ]
  },
  {
   "cell_type": "code",
   "execution_count": 2,
   "metadata": {},
   "outputs": [
    {
     "name": "stdout",
     "output_type": "stream",
     "text": [
      "120 150 180 210 240 270 300 330 360 390 \n",
      "420 450 480 510 540 570 600 630 660 690 \n",
      "720 750 780 810 840 870 900 930 960 990 \n"
     ]
    }
   ],
   "source": [
    "def shu():\n",
    "    c = 0\n",
    "    for i in range(100,1000):\n",
    "        if i%5 == 0 and i%6 == 0:\n",
    "            print(i,end=' ')\n",
    "            c += 1\n",
    "            if c == 10:\n",
    "                c = 0\n",
    "                print()\n",
    "shu()"
   ]
  },
  {
   "cell_type": "markdown",
   "metadata": {},
   "source": [
    "- 5\n",
    "![](../Photo/61.png)"
   ]
  },
  {
   "cell_type": "code",
   "execution_count": 3,
   "metadata": {},
   "outputs": [
    {
     "name": "stdout",
     "output_type": "stream",
     "text": [
      "110\n"
     ]
    }
   ],
   "source": [
    "def xiao(n=1):\n",
    "    while n*n < 12000:\n",
    "        n=n+1\n",
    "    print(n)\n",
    "xiao()"
   ]
  },
  {
   "cell_type": "code",
   "execution_count": 4,
   "metadata": {},
   "outputs": [
    {
     "name": "stdout",
     "output_type": "stream",
     "text": [
      "22\n"
     ]
    }
   ],
   "source": [
    "def da(n=0):\n",
    "    while n ** 3 < 12000:\n",
    "        n = n + 1\n",
    "    print(n-1)\n",
    "da()"
   ]
  },
  {
   "cell_type": "code",
   "execution_count": 18,
   "metadata": {},
   "outputs": [
    {
     "name": "stdout",
     "output_type": "stream",
     "text": [
      "110\n"
     ]
    }
   ],
   "source": [
    "n = 0\n",
    "while 1:\n",
    "    res = n ** 2\n",
    "    if res >= 12000:\n",
    "        break\n",
    "    else:\n",
    "        n += 1\n",
    "print(n)"
   ]
  },
  {
   "cell_type": "code",
   "execution_count": 21,
   "metadata": {},
   "outputs": [
    {
     "name": "stdout",
     "output_type": "stream",
     "text": [
      "22\n"
     ]
    }
   ],
   "source": [
    "n = 0\n",
    "while 1:\n",
    "    res = n ** 3\n",
    "    if res < 12000:\n",
    "        n += 1\n",
    "    else:\n",
    "        break\n",
    "print(n-1)"
   ]
  },
  {
   "cell_type": "markdown",
   "metadata": {},
   "source": [
    "- 6\n",
    "![](../Photo/62.png)"
   ]
  },
  {
   "cell_type": "code",
   "execution_count": 7,
   "metadata": {},
   "outputs": [
    {
     "name": "stdout",
     "output_type": "stream",
     "text": [
      "请输入贷款总额和周期：10000,5\n",
      "月利率         还贷额          还款额\n",
      "0.051250      100.000000      11200.000000\n",
      "0.052500      102.500000      11230.000000\n",
      "0.053750      105.000000      11260.000000\n",
      "0.055000      107.500000      11290.000000\n",
      "0.056250      110.000000      11320.000000\n",
      "0.057500      112.500000      11350.000000\n",
      "0.058750      115.000000      11380.000000\n",
      "0.060000      117.500000      11410.000000\n",
      "0.061250      120.000000      11440.000000\n",
      "0.062500      122.500000      11470.000000\n",
      "0.063750      125.000000      11500.000000\n",
      "0.065000      127.500000      11530.000000\n",
      "0.066250      130.000000      11560.000000\n",
      "0.067500      132.500000      11590.000000\n",
      "0.068750      135.000000      11620.000000\n",
      "0.070000      137.500000      11650.000000\n",
      "0.071250      140.000000      11680.000000\n",
      "0.072500      142.500000      11710.000000\n",
      "0.073750      145.000000      11740.000000\n",
      "0.075000      147.500000      11770.000000\n",
      "0.076250      150.000000      11800.000000\n",
      "0.077500      152.500000      11830.000000\n",
      "0.078750      155.000000      11860.000000\n",
      "0.080000      157.500000      11890.000000\n"
     ]
    }
   ],
   "source": [
    "def kuan(dai,zhou):\n",
    "    li = (5/100)\n",
    "    print('月利率         还贷额          还款额')\n",
    "    while li<8/100:\n",
    "        hd = dai * li /zhou\n",
    "        hk = dai + (hd * 12)\n",
    "        li = li + 1/800\n",
    "        print('%f      %f      %f'%(li,hd,hk))\n",
    "d,z = eval(input('请输入贷款总额和周期：'))\n",
    "kuan(d,z)"
   ]
  },
  {
   "cell_type": "markdown",
   "metadata": {},
   "source": [
    "- 7\n",
    "![](../Photo/63.png)"
   ]
  },
  {
   "cell_type": "code",
   "execution_count": 8,
   "metadata": {},
   "outputs": [
    {
     "name": "stdout",
     "output_type": "stream",
     "text": [
      "11.397003949278519\n"
     ]
    }
   ],
   "source": [
    "def suan(n=50000):\n",
    "    s = 0\n",
    "    while n > 0:\n",
    "        s = s + 1 / n\n",
    "        n = n - 1\n",
    "    print(s)\n",
    "suan()"
   ]
  },
  {
   "cell_type": "code",
   "execution_count": 2,
   "metadata": {},
   "outputs": [
    {
     "name": "stdout",
     "output_type": "stream",
     "text": [
      "11.397003949278504\n"
     ]
    }
   ],
   "source": [
    "res = 0\n",
    "for i in range(1,50001,1):\n",
    "    res += 1/i\n",
    "print(res)"
   ]
  },
  {
   "cell_type": "markdown",
   "metadata": {},
   "source": [
    "- 8\n",
    "![](../Photo/64.png)"
   ]
  },
  {
   "cell_type": "code",
   "execution_count": 9,
   "metadata": {},
   "outputs": [
    {
     "name": "stdout",
     "output_type": "stream",
     "text": [
      "44.14465232325222\n"
     ]
    }
   ],
   "source": [
    "def he():\n",
    "    s = 0\n",
    "    for i in range(1,97,2):\n",
    "        s = s + i/(i+2)\n",
    "    print(s)\n",
    "he()"
   ]
  },
  {
   "cell_type": "markdown",
   "metadata": {},
   "source": [
    "- 9\n",
    "![](../Photo/65.png)"
   ]
  },
  {
   "cell_type": "code",
   "execution_count": 11,
   "metadata": {},
   "outputs": [
    {
     "name": "stdout",
     "output_type": "stream",
     "text": [
      "当i为10000时，Π的值为：3.141493\n",
      "当i为20000时，Π的值为：3.141543\n",
      "当i为30000时，Π的值为：3.141559\n",
      "当i为40000时，Π的值为：3.141568\n",
      "当i为50000时，Π的值为：3.141573\n",
      "当i为60000时，Π的值为：3.141576\n",
      "当i为70000时，Π的值为：3.141578\n",
      "当i为80000时，Π的值为：3.141580\n",
      "当i为90000时，Π的值为：3.141582\n",
      "当i为100000时，Π的值为：3.141583\n"
     ]
    }
   ],
   "source": [
    "def pai():\n",
    "    \n",
    "    for i in range(10000,110000,10000):\n",
    "        s = 0\n",
    "        for j in range(1,i+1):\n",
    "            s = s + (-1) ** (j+1) / (2*j-1)\n",
    "        p = 4*s\n",
    "        print('当i为%d时，Π的值为：%f'%(i,p))\n",
    "pai()"
   ]
  },
  {
   "cell_type": "markdown",
   "metadata": {},
   "source": [
    "- 10 \n",
    "![](../Photo/66.png)"
   ]
  },
  {
   "cell_type": "code",
   "execution_count": 12,
   "metadata": {},
   "outputs": [
    {
     "name": "stdout",
     "output_type": "stream",
     "text": [
      "6\n",
      "28\n",
      "496\n",
      "8128\n"
     ]
    }
   ],
   "source": [
    "def suan(x):\n",
    "    z = 0\n",
    "    for y in range(1,x):\n",
    "        if x % y == 0:\n",
    "            z += y\n",
    "    if x == z:\n",
    "        print(x)\n",
    "for i in range(1,10000):\n",
    "    suan(i)"
   ]
  },
  {
   "cell_type": "markdown",
   "metadata": {},
   "source": [
    "- 11\n",
    "![](../Photo/67.png)"
   ]
  },
  {
   "cell_type": "code",
   "execution_count": 13,
   "metadata": {},
   "outputs": [
    {
     "name": "stdout",
     "output_type": "stream",
     "text": [
      "1 7\n",
      "1 6\n",
      "1 5\n",
      "1 4\n",
      "1 3\n",
      "1 2\n",
      "2 7\n",
      "2 6\n",
      "2 5\n",
      "2 4\n",
      "2 3\n",
      "3 7\n",
      "3 6\n",
      "3 5\n",
      "3 4\n",
      "4 7\n",
      "4 6\n",
      "4 5\n",
      "5 7\n",
      "5 6\n",
      "6 7\n",
      "21\n"
     ]
    }
   ],
   "source": [
    "s = 0\n",
    "for i in range(1,8):\n",
    "    for j in range(7,i,-1):\n",
    "        print('%d %d'%(i,j))\n",
    "        s += 1\n",
    "print(s)"
   ]
  },
  {
   "cell_type": "markdown",
   "metadata": {},
   "source": [
    "- 12\n",
    "![](../Photo/68.png)"
   ]
  },
  {
   "cell_type": "code",
   "execution_count": 14,
   "metadata": {},
   "outputs": [
    {
     "name": "stdout",
     "output_type": "stream",
     "text": [
      "请输入十个数：\n",
      "1\n",
      "2\n",
      "3\n",
      "5.5\n",
      "5.6\n",
      "6\n",
      "7\n",
      "8\n",
      "9\n",
      "10\n",
      "平均值为： 5.71\n",
      "方差为： 3.272693855135925\n"
     ]
    }
   ],
   "source": [
    "import math\n",
    "print('请输入十个数：')\n",
    "s=0\n",
    "c=0\n",
    "z=0\n",
    "for i in range(10):\n",
    "    c += 1\n",
    "    a = float(input())\n",
    "    s += a\n",
    "    mean = s / c\n",
    "    z = z+i - mean\n",
    "    dev = math.sqrt(1/c*(z*z))\n",
    "print('平均值为：',mean)\n",
    "print('方差为：',dev)"
   ]
  }
 ],
 "metadata": {
  "kernelspec": {
   "display_name": "Python 3",
   "language": "python",
   "name": "python3"
  },
  "language_info": {
   "codemirror_mode": {
    "name": "ipython",
    "version": 3
   },
   "file_extension": ".py",
   "mimetype": "text/x-python",
   "name": "python",
   "nbconvert_exporter": "python",
   "pygments_lexer": "ipython3",
   "version": "3.7.3"
  }
 },
 "nbformat": 4,
 "nbformat_minor": 2
}
